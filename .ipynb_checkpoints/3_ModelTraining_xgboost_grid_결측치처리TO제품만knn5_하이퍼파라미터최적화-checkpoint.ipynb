{
 "cells": [
  {
   "cell_type": "code",
   "execution_count": null,
   "id": "e41779a0",
   "metadata": {},
   "outputs": [],
   "source": [
    "from sklearn.preprocessing import LabelEncoder\n",
    "from sklearn.ensemble import RandomForestClassifier\n",
    "import pandas as pd\n",
    "import random\n",
    "import os\n",
    "import numpy as np\n",
    "import matplotlib.pyplot as plt\n",
    "import warnings; warnings.filterwarnings(action='ignore')\n",
    "import pickle\n",
    "import time\n",
    "\n",
    "from sklearn.ensemble import RandomForestClassifier, RandomForestRegressor\n",
    "from sklearn.ensemble import GradientBoostingClassifier\n",
    "from sklearn.ensemble import VotingClassifier\n",
    "#from lightgbm import LGBMClassifier\n",
    "from xgboost import XGBClassifier\n",
    "import sklearn.svm as svm\n",
    "import xgboost as xgb\n",
    "\n",
    "from sklearn.model_selection import GridSearchCV\n",
    "from sklearn.model_selection import RandomizedSearchCV\n",
    "from bayes_opt import BayesianOptimization\n",
    "from matplotlib_venn import venn2, venn2_circles\n",
    "\n",
    "from xgboost import plot_importance\n",
    "from scipy.stats import randint\n",
    "from sklearn.preprocessing import LabelEncoder\n",
    "from sklearn.model_selection import KFold\n",
    "from sklearn.model_selection import cross_val_score\n",
    "from sklearn.model_selection import train_test_split\n",
    "from sklearn.metrics import f1_score\n",
    "from sklearn.metrics import accuracy_score"
   ]
  },
  {
   "cell_type": "code",
   "execution_count": null,
   "id": "b75d14fe",
   "metadata": {},
   "outputs": [],
   "source": [
    "def seed_everything(seed):\n",
    "    random.seed(seed) #파이썬 자체 모듈 random 모듈의 시드 고정\n",
    "    os.environ['PYTHONHASHSEED'] = str(seed) \n",
    "    np.random.seed(seed) #넘파이를 사용할 경우\n",
    "#     torch.manual_seed(seed)\n",
    "#     torch.cuda.manual_seed(seed)\n",
    "#     torch.backends.cudnn.deterministic = True\n",
    "    \n",
    "seed_everything(37) # Seed 고정"
   ]
  },
  {
   "cell_type": "code",
   "execution_count": null,
   "id": "e5a8abfc",
   "metadata": {},
   "outputs": [],
   "source": [
    "!jupyter nbconvert --clear-output --inplace 3_ModelTraining_xgboost_grid_결측치처리TO제품만knn5.ipynb"
   ]
  },
  {
   "cell_type": "code",
   "execution_count": null,
   "id": "f5d158e1",
   "metadata": {},
   "outputs": [],
   "source": [
    "# # Preprocessing 전처리한 데이터 train_pp, test_pp\n",
    "# train_a = pd.read_csv('./data/train_a.csv')\n",
    "# train_to = pd.read_csv('./data/train_to.csv')\n",
    "# traina_pp = pd.read_csv('./data/imputed_a_1val_highcorr.csv')\n",
    "# trainto_pp = pd.read_csv('./data/imputed_to_1val_highcorr.csv')\n",
    "\n",
    "# test = pd.read_csv('./data/test.csv')\n",
    "# test_a = test[test['PRODUCT_CODE']=='A_31']\n",
    "# test_to = test[(test['PRODUCT_CODE']=='T_31')|(test['PRODUCT_CODE']=='O_31')]"
   ]
  },
  {
   "cell_type": "code",
   "execution_count": null,
   "id": "051f68f9",
   "metadata": {},
   "outputs": [],
   "source": [
    "a_df = pd.read_csv('./data/a_df.csv')\n",
    "to_df = pd.read_csv('./data/imp_to_df.csv')\n",
    "\n",
    "test = pd.read_csv('./data/test.csv')\n",
    "test_a = test[test['PRODUCT_CODE']=='A_31']\n",
    "test_to = test[(test['PRODUCT_CODE']=='T_31')|(test['PRODUCT_CODE']=='O_31')]"
   ]
  },
  {
   "cell_type": "code",
   "execution_count": null,
   "id": "da4d2eba",
   "metadata": {},
   "outputs": [],
   "source": [
    "display(a_df.head())\n",
    "display(to_df.head())\n",
    "display(test_a.head())\n",
    "display(test_to.head())"
   ]
  },
  {
   "cell_type": "markdown",
   "id": "02088b90",
   "metadata": {},
   "source": [
    "# 데이터 준비"
   ]
  },
  {
   "cell_type": "markdown",
   "id": "9de3ccce",
   "metadata": {},
   "source": [
    "train데이터로 학습한 모델로 test데이터의 예측을 진행하므로 train의 컬럼만 test데이터에 넣는다."
   ]
  },
  {
   "cell_type": "code",
   "execution_count": null,
   "id": "8be8cb63",
   "metadata": {},
   "outputs": [],
   "source": [
    "testa_df = test_a[a_df.iloc[:,6:].columns]\n",
    "testto_df = test_to[to_df.iloc[:,6:].columns]\n",
    "display(testa_df.head())\n",
    "display(testto_df.head())"
   ]
  },
  {
   "cell_type": "code",
   "execution_count": null,
   "id": "f233dd54",
   "metadata": {},
   "outputs": [],
   "source": [
    "train_y = a_df['Y_Class']"
   ]
  },
  {
   "cell_type": "code",
   "execution_count": null,
   "id": "a783be95",
   "metadata": {},
   "outputs": [],
   "source": [
    "# train_x = pd.concat([a_df[['LINE', 'PRODUCT_CODE']],traina_pp], axis = 1)\n",
    "# train_x.head()"
   ]
  },
  {
   "cell_type": "code",
   "execution_count": null,
   "id": "aed0ac63",
   "metadata": {},
   "outputs": [],
   "source": [
    "train_x = a_df.drop(columns = ['PRODUCT_ID','TIMESTAMP','Y_Class', 'Y_Quality'])"
   ]
  },
  {
   "cell_type": "code",
   "execution_count": null,
   "id": "e6632ce7",
   "metadata": {},
   "outputs": [],
   "source": [
    "test_x = pd.concat([test_a[['LINE', 'PRODUCT_CODE']],testa_df], axis = 1)\n",
    "test_x.head()"
   ]
  },
  {
   "cell_type": "code",
   "execution_count": null,
   "id": "8860c3c5",
   "metadata": {},
   "outputs": [],
   "source": [
    "a_index = test_x.index.tolist() "
   ]
  },
  {
   "cell_type": "code",
   "execution_count": null,
   "id": "1abb92c9",
   "metadata": {},
   "outputs": [],
   "source": [
    "len(a_index)"
   ]
  },
  {
   "cell_type": "markdown",
   "id": "112493a3",
   "metadata": {},
   "source": [
    "### A 데이터 범주형 변수 라벨 인코딩"
   ]
  },
  {
   "cell_type": "code",
   "execution_count": null,
   "id": "7f539f47",
   "metadata": {},
   "outputs": [],
   "source": [
    "qual_col = ['LINE', 'PRODUCT_CODE']\n",
    "\n",
    "for i in qual_col:\n",
    "    le = LabelEncoder()\n",
    "    le = le.fit(train_x[i]) #원래 column 값을 기준으로 fit.\n",
    "    train_x[i] = le.transform(train_x[i]) #수치화, 수치로 변형\n",
    "\n",
    "    for label in np.unique(test_x[i]): \n",
    "        if label not in le.classes_: \n",
    "            le.classes_ = np.append(le.classes_, label)\n",
    "    test_x[i] = le.transform(test_x[i]) \n",
    "print('Done.')"
   ]
  },
  {
   "cell_type": "markdown",
   "id": "e259678a",
   "metadata": {},
   "source": [
    "## train_a 학습 및 test_a 예측"
   ]
  },
  {
   "cell_type": "code",
   "execution_count": null,
   "id": "9e7cae86",
   "metadata": {},
   "outputs": [],
   "source": [
    "from xgboost import XGBClassifier\n",
    "from sklearn.model_selection import GridSearchCV\n",
    "\n",
    "xgb_model = XGBClassifier(n_estimators=1500)\n",
    "\n",
    "X_train, X_test, y_train, y_test = train_test_split(train_x, train_y, \n",
    "                                                    test_size=0.3, \n",
    "                                                    stratify=train_y, \n",
    "                                                    random_state=37)\n",
    "\n",
    "# 후보 파라미터 선정\n",
    "params = {'max_depth':[6, 7, 8], #일반적으로 3~10\n",
    "          'subsample':[0.75, 0.8, 0.85], #일반적으로 0.5 ~ 1\n",
    "          'learning_rate':[0.12, 0.15], #일반적으로 0.01 ~ 0.2\n",
    "          'min_child_weight':[3, 4], # 1보다 샘플수작으면 leaf node. 너무 크게 설정하면 언더피팅\n",
    "          'reg_lambda': [1], #default 1, L2 규제\n",
    "          'reg_alpha' : [0], #default 0, L1 규제  \n",
    "          'min_split_loss':[0.05, 0.1, 0.15], #범위 0~무한대\n",
    "          'colsample_bytree':[0.7,0.8]} #일반적으로 0~1\n",
    "\n",
    "# gridsearchcv 객체 정보 입력(어떤 모델, 파라미터 후보, 교차검증 몇 번)\n",
    "gridcv = GridSearchCV(xgb_model, param_grid=params, cv=3)\n",
    "\n",
    "# 파라미터 튜닝 시작 / eval_set: 학습은  (X_train, y_train), 검증은 (X_test, y_test)\n",
    "gridcv.fit(X_train, y_train, early_stopping_rounds=50, eval_metric='mlogloss', eval_set=[(X_train, y_train), (X_test, y_test)])\n",
    "\n",
    "#튜닝된 파라미터 출력\n",
    "print(gridcv.best_params_)\n",
    "print(gridcv.best_score_)\n",
    "\n",
    "best_params = gridcv.best_params_\n",
    "best_xgb_model = XGBClassifier(n_estimators=1500, **best_params)\n",
    "\n",
    "# 훈련 데이터 전체에 대해 모델 학습\n",
    "best_xgb_model.fit(train_x, train_y)\n",
    "\n",
    "# 새로운 데이터에 대해 예측\n",
    "preds = best_xgb_model.predict(test_x)"
   ]
  },
  {
   "cell_type": "code",
   "execution_count": null,
   "id": "77ef9a71",
   "metadata": {},
   "outputs": [],
   "source": [
    "preds = pd.DataFrame(preds)\n",
    "preds.index = a_index\n",
    "preds"
   ]
  },
  {
   "cell_type": "code",
   "execution_count": null,
   "id": "b134c9a4",
   "metadata": {},
   "outputs": [],
   "source": [
    "preds.describe()"
   ]
  },
  {
   "cell_type": "markdown",
   "id": "fc4646f0",
   "metadata": {},
   "source": [
    "# 데이터 준비"
   ]
  },
  {
   "cell_type": "markdown",
   "id": "caf83124",
   "metadata": {},
   "source": [
    "train데이터로 학습한 모델로 test데이터의 예측을 진행하므로 train의 컬럼만 test데이터에 넣는다."
   ]
  },
  {
   "cell_type": "markdown",
   "id": "d99a1408",
   "metadata": {},
   "source": [
    "train과 test 데이터는 필요없는 컬럼들 제거하고 knn 보간법으로 결측치 처리된 데이터"
   ]
  },
  {
   "cell_type": "code",
   "execution_count": null,
   "id": "cd4e7228",
   "metadata": {},
   "outputs": [],
   "source": [
    "# testa_df = test_a[a_df.iloc[:,6:].columns]\n",
    "# testto_df = test_to[to_df.iloc[:,6:].columns]"
   ]
  },
  {
   "cell_type": "code",
   "execution_count": null,
   "id": "ef4d4440",
   "metadata": {},
   "outputs": [],
   "source": [
    "train_y = to_df['Y_Class']"
   ]
  },
  {
   "cell_type": "code",
   "execution_count": null,
   "id": "9ef76882",
   "metadata": {},
   "outputs": [],
   "source": [
    "train_x = to_df.drop(columns = ['PRODUCT_ID','TIMESTAMP','Y_Class', 'Y_Quality'])"
   ]
  },
  {
   "cell_type": "code",
   "execution_count": null,
   "id": "8c742039",
   "metadata": {},
   "outputs": [],
   "source": [
    "test_x = pd.concat([test_to[['LINE', 'PRODUCT_CODE']],testto_df], axis = 1)\n",
    "test_x.head()"
   ]
  },
  {
   "cell_type": "code",
   "execution_count": null,
   "id": "78dd140f",
   "metadata": {},
   "outputs": [],
   "source": [
    "to_index = test_x.index.tolist() "
   ]
  },
  {
   "cell_type": "markdown",
   "id": "8eaefef9",
   "metadata": {},
   "source": [
    "### TO 데이터 범주형 변수 라벨 인코딩"
   ]
  },
  {
   "cell_type": "code",
   "execution_count": null,
   "id": "156e9485",
   "metadata": {},
   "outputs": [],
   "source": [
    "qual_col = ['LINE', 'PRODUCT_CODE']\n",
    "\n",
    "for i in qual_col:\n",
    "    le = LabelEncoder()\n",
    "    le = le.fit(train_x[i]) #원래 column 값을 기준으로 fit.\n",
    "    train_x[i] = le.transform(train_x[i]) #수치화, 수치로 변형\n",
    "\n",
    "    for label in np.unique(test_x[i]): \n",
    "        if label not in le.classes_: \n",
    "            le.classes_ = np.append(le.classes_, label)\n",
    "    test_x[i] = le.transform(test_x[i]) \n",
    "print('Done.')"
   ]
  },
  {
   "cell_type": "markdown",
   "id": "e764cadb",
   "metadata": {},
   "source": [
    "## train_to 학습 및 test_to 예측"
   ]
  },
  {
   "cell_type": "code",
   "execution_count": null,
   "id": "57366c6f",
   "metadata": {},
   "outputs": [],
   "source": [
    "from xgboost import XGBClassifier\n",
    "from sklearn.model_selection import GridSearchCV\n",
    "\n",
    "xgb_model = XGBClassifier(n_estimators=1500)\n",
    "\n",
    "X_train, X_test, y_train, y_test = train_test_split(train_x, train_y, \n",
    "                                                    test_size=0.3, \n",
    "                                                    stratify=train_y, \n",
    "                                                    random_state=37)\n",
    "\n",
    "# 후보 파라미터 선정\n",
    "params = {'max_depth':[6, 7, 8], #일반적으로 3~10\n",
    "          'subsample':[0.75, 0.8, 0.85], #일반적으로 0.5 ~ 1\n",
    "          'learning_rate':[0.12, 0.15], #일반적으로 0.01 ~ 0.2\n",
    "          'min_child_weight':[3, 4], # 1보다 샘플수작으면 leaf node. 너무 크게 설정하면 언더피팅\n",
    "          'reg_lambda': [1], #default 1, L2 규제\n",
    "          'reg_alpha' : [0], #default 0, L1 규제  \n",
    "          'min_split_loss':[0.05, 0.1, 0.15], #범위 0~무한대\n",
    "          'colsample_bytree':[0.7,0.8]} #일반적으로 0~1\n",
    "\n",
    "# gridsearchcv 객체 정보 입력(어떤 모델, 파라미터 후보, 교차검증 몇 번)\n",
    "gridcv = GridSearchCV(xgb_model, param_grid=params, cv=3)\n",
    "\n",
    "# 파라미터 튜닝 시작 / eval_set: 학습은  (X_train, y_train), 검증은 (X_test, y_test)\n",
    "gridcv.fit(X_train, y_train, early_stopping_rounds=50, eval_metric='mlogloss', eval_set=[(X_train, y_train), (X_test, y_test)])\n",
    "\n",
    "#튜닝된 파라미터 출력\n",
    "print(gridcv.best_params_)\n",
    "print(gridcv.best_score_)\n",
    "\n",
    "best_params = gridcv.best_params_\n",
    "best_xgb_model = XGBClassifier(n_estimators=1500, **best_params)\n",
    "\n",
    "# 훈련 데이터 전체에 대해 모델 학습\n",
    "best_xgb_model.fit(train_x, train_y)\n",
    "\n",
    "# 새로운 데이터에 대해 예측\n",
    "preds2 = best_xgb_model.predict(test_x)"
   ]
  },
  {
   "cell_type": "code",
   "execution_count": null,
   "id": "7933561f",
   "metadata": {},
   "outputs": [],
   "source": [
    "preds2 = pd.DataFrame(preds2)\n",
    "preds2.index = to_index\n",
    "preds2"
   ]
  },
  {
   "cell_type": "code",
   "execution_count": null,
   "id": "0b0f71fa",
   "metadata": {},
   "outputs": [],
   "source": [
    "preds2.describe()"
   ]
  },
  {
   "cell_type": "code",
   "execution_count": null,
   "id": "3e1f16f5",
   "metadata": {},
   "outputs": [],
   "source": [
    "prediction = pd.concat([preds, preds2], axis = 0)\n",
    "prediction = prediction.sort_index(ascending=True)\n",
    "prediction"
   ]
  },
  {
   "cell_type": "code",
   "execution_count": null,
   "id": "ba50a0a7",
   "metadata": {},
   "outputs": [],
   "source": [
    "prediction.describe()"
   ]
  },
  {
   "cell_type": "code",
   "execution_count": null,
   "id": "1d1ae934",
   "metadata": {},
   "outputs": [],
   "source": []
  },
  {
   "cell_type": "code",
   "execution_count": null,
   "id": "a26914dd",
   "metadata": {},
   "outputs": [],
   "source": [
    "sub = pd.read_csv('./sample_submission.csv')\n",
    "sub['Y_Class'] = prediction\n",
    "#이상치처리x, 결측치knn보간법, std0제거, 높은 상관성 제거,  to제품 결측치처리\n",
    "sub.to_csv('./data/sub/sub_grid4.csv', index = False)"
   ]
  },
  {
   "cell_type": "code",
   "execution_count": null,
   "id": "19c136eb",
   "metadata": {},
   "outputs": [],
   "source": []
  },
  {
   "cell_type": "code",
   "execution_count": null,
   "id": "1ef76f8d",
   "metadata": {},
   "outputs": [],
   "source": []
  },
  {
   "cell_type": "code",
   "execution_count": null,
   "id": "f3ababe0",
   "metadata": {},
   "outputs": [],
   "source": []
  },
  {
   "cell_type": "code",
   "execution_count": null,
   "id": "9826b727",
   "metadata": {},
   "outputs": [],
   "source": []
  },
  {
   "cell_type": "code",
   "execution_count": null,
   "id": "e07ace89",
   "metadata": {},
   "outputs": [],
   "source": []
  },
  {
   "cell_type": "code",
   "execution_count": null,
   "id": "b8b0bf1b",
   "metadata": {},
   "outputs": [],
   "source": [
    "!jupyter nbconvert --clear-output --inplace 3_ModelTraining_xgboost_grid.ipynb"
   ]
  },
  {
   "cell_type": "code",
   "execution_count": null,
   "id": "29acf643",
   "metadata": {},
   "outputs": [],
   "source": []
  },
  {
   "cell_type": "code",
   "execution_count": null,
   "id": "ebc7bb73",
   "metadata": {},
   "outputs": [],
   "source": []
  }
 ],
 "metadata": {
  "kernelspec": {
   "display_name": "smartfactory",
   "language": "python",
   "name": "smartfactory"
  },
  "language_info": {
   "codemirror_mode": {
    "name": "ipython",
    "version": 3
   },
   "file_extension": ".py",
   "mimetype": "text/x-python",
   "name": "python",
   "nbconvert_exporter": "python",
   "pygments_lexer": "ipython3",
   "version": "3.9.12"
  }
 },
 "nbformat": 4,
 "nbformat_minor": 5
}
