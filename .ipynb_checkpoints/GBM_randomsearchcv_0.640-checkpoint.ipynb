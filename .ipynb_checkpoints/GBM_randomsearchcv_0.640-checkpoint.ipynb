{
 "cells": [
  {
   "cell_type": "code",
   "execution_count": 1,
   "id": "0c732c7c",
   "metadata": {},
   "outputs": [],
   "source": [
    "import pandas as pd\n",
    "import random\n",
    "import os\n",
    "import numpy as np\n",
    "import matplotlib.pyplot as plt\n",
    "import warnings; warnings.filterwarnings(action='ignore')\n",
    "import pickle\n",
    "\n",
    "from sklearn.ensemble import RandomForestClassifier, RandomForestRegressor\n",
    "from sklearn.ensemble import GradientBoostingClassifier\n",
    "from sklearn.ensemble import VotingClassifier\n",
    "from lightgbm import LGBMClassifier\n",
    "from xgboost import XGBClassifier\n",
    "import sklearn.svm as svm\n",
    "import xgboost as xgb\n",
    "\n",
    "from sklearn.model_selection import GridSearchCV\n",
    "from sklearn.model_selection import RandomizedSearchCV\n",
    "from bayes_opt import BayesianOptimization\n",
    "\n",
    "from xgboost import plot_importance\n",
    "from scipy.stats import randint\n",
    "from sklearn.preprocessing import LabelEncoder\n",
    "from sklearn.model_selection import KFold\n",
    "from sklearn.model_selection import cross_val_score\n",
    "from sklearn.model_selection import train_test_split\n",
    "from sklearn.metrics import f1_score\n",
    "from sklearn.metrics import accuracy_score"
   ]
  },
  {
   "cell_type": "code",
   "execution_count": 2,
   "id": "c407cb36",
   "metadata": {},
   "outputs": [],
   "source": [
    "def seed_everything(seed):\n",
    "    random.seed(seed) #파이썬 자체 모듈 random 모듈의 시드 고정\n",
    "    os.environ['PYTHONHASHSEED'] = str(seed) \n",
    "    np.random.seed(seed)\n",
    "\n",
    "seed_everything(37) # Seed 고정"
   ]
  },
  {
   "cell_type": "markdown",
   "id": "33209ff9",
   "metadata": {},
   "source": [
    "# Data Load"
   ]
  },
  {
   "cell_type": "code",
   "execution_count": 3,
   "id": "864c76d3",
   "metadata": {},
   "outputs": [],
   "source": [
    "train_df = pd.read_csv('./train.csv')\n",
    "test_df = pd.read_csv('./test.csv')\n",
    "sub = pd.read_csv('./sample_submission.csv')"
   ]
  },
  {
   "cell_type": "markdown",
   "id": "bc8c7839",
   "metadata": {},
   "source": [
    "# Data Preprocessing"
   ]
  },
  {
   "cell_type": "markdown",
   "id": "457cd531",
   "metadata": {},
   "source": [
    "결측값을 모두 -100으로 채운다."
   ]
  },
  {
   "cell_type": "code",
   "execution_count": 4,
   "id": "8b75b069",
   "metadata": {},
   "outputs": [],
   "source": [
    "train_df = train_df.fillna(-100)\n",
    "test_df = test_df.fillna(-100)"
   ]
  },
  {
   "cell_type": "code",
   "execution_count": 5,
   "id": "ae41a713",
   "metadata": {},
   "outputs": [],
   "source": [
    "train_y = train_df['Y_Class']"
   ]
  },
  {
   "cell_type": "code",
   "execution_count": 6,
   "id": "606f458c",
   "metadata": {},
   "outputs": [],
   "source": [
    "train_x = train_df.drop(columns = ['PRODUCT_ID', 'TIMESTAMP', 'Y_Class', 'Y_Quality'])\n",
    "test_x = test_df.drop(columns=['PRODUCT_ID', 'TIMESTAMP'])"
   ]
  },
  {
   "cell_type": "markdown",
   "id": "bdd74ac6",
   "metadata": {},
   "source": [
    "범주형 데이터를 수치 데이터로 전환하기 위해 LabelEncoder 활용"
   ]
  },
  {
   "cell_type": "code",
   "execution_count": 7,
   "id": "53adcf44",
   "metadata": {},
   "outputs": [
    {
     "name": "stdout",
     "output_type": "stream",
     "text": [
      "Done.\n"
     ]
    }
   ],
   "source": [
    "# qualitative to quantitative\n",
    "qual_col = ['LINE', 'PRODUCT_CODE']\n",
    "\n",
    "for i in qual_col:\n",
    "    le = LabelEncoder()\n",
    "    le = le.fit(train_x[i]) #원래 column 값을 기준으로 fit.\n",
    "    train_x[i] = le.transform(train_x[i]) #수치화, 수치로 변형\n",
    "    \n",
    "    for label in np.unique(test_x[i]): \n",
    "        if label not in le.classes_: \n",
    "            le.classes_ = np.append(le.classes_, label)\n",
    "    test_x[i] = le.transform(test_x[i]) \n",
    "print('Done.')"
   ]
  },
  {
   "cell_type": "markdown",
   "id": "c55a73f6",
   "metadata": {},
   "source": [
    "# Modeling"
   ]
  },
  {
   "cell_type": "markdown",
   "id": "bb2abe8c",
   "metadata": {},
   "source": [
    "### GBM"
   ]
  },
  {
   "cell_type": "markdown",
   "id": "97c4cc21",
   "metadata": {},
   "source": [
    "### RamdomSearchCV 파라미터 최적화"
   ]
  },
  {
   "cell_type": "code",
   "execution_count": 207,
   "id": "3b5c5109",
   "metadata": {},
   "outputs": [
    {
     "name": "stdout",
     "output_type": "stream",
     "text": [
      "[0.78333333 0.79166667 0.78333333 0.78991597 0.76470588]\n",
      "Fitting 5 folds for each of 50 candidates, totalling 250 fits\n",
      "최적 하이퍼 파라미터: {'min_samples_leaf': 3, 'min_samples_split': 4, 'n_estimators': 157}\n",
      "최고 예측 정확도: 41.3178\n",
      "time elapsed: 1106.4138910770416\n"
     ]
    }
   ],
   "source": [
    "param_distribs = {\n",
    "    'n_estimators' : randint(low=1, high=200),\n",
    "    'min_samples_split': randint(low = 1, high = 10),\n",
    "    'min_samples_leaf': randint(low = 1, high = 17)\n",
    "}\n",
    "\n",
    "GBM= GradientBoostingClassifier(random_state=37)\n",
    "\n",
    "rand_cv = RandomizedSearchCV(GBM, \n",
    "                            param_distributions=param_distribs,\n",
    "                            cv = 5, \n",
    "                            n_iter = 50,\n",
    "                            scoring = 'f1_macro',\n",
    "                            n_jobs = -1,\n",
    "                            verbose=3)\n",
    "rand_cv.fit(train_x, train_y)\n",
    "preds = rand_cv.predict(test_x)\n",
    "\n",
    "sub['Y_Class'] = preds\n",
    "sub.to_csv('./t10_GBM_RandomSearchCV_niter50.csv', index=False)\n",
    "\n",
    "print(f'최적 하이퍼 파라미터: {rand_cv.best_params_}')\n",
    "print(f'최고 예측 정확도: {(rand_cv.best_score_)*100:.4f}')\n",
    "print(f'time elapsed: {end-start}')"
   ]
  },
  {
   "cell_type": "code",
   "execution_count": null,
   "id": "c04488b6",
   "metadata": {},
   "outputs": [],
   "source": []
  }
 ],
 "metadata": {
  "kernelspec": {
   "display_name": "pas",
   "language": "python",
   "name": "pas"
  },
  "language_info": {
   "codemirror_mode": {
    "name": "ipython",
    "version": 3
   },
   "file_extension": ".py",
   "mimetype": "text/x-python",
   "name": "python",
   "nbconvert_exporter": "python",
   "pygments_lexer": "ipython3",
   "version": "3.7.16"
  }
 },
 "nbformat": 4,
 "nbformat_minor": 5
}
